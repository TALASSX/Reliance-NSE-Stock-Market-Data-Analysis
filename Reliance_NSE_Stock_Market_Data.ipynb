{
  "nbformat": 4,
  "nbformat_minor": 0,
  "metadata": {
    "colab": {
      "provenance": []
    },
    "kernelspec": {
      "name": "python3",
      "display_name": "Python 3"
    },
    "language_info": {
      "name": "python"
    }
  },
  "cells": [
    {
      "cell_type": "code",
      "execution_count": 1,
      "metadata": {
        "colab": {
          "base_uri": "https://localhost:8080/"
        },
        "id": "WTn2vWHf3R8C",
        "outputId": "14ca1b14-766e-4ec0-d31b-1c66a2b7b752"
      },
      "outputs": [
        {
          "output_type": "stream",
          "name": "stdout",
          "text": [
            "Looking in indexes: https://pypi.org/simple, https://us-python.pkg.dev/colab-wheels/public/simple/\n",
            "Collecting pyspark\n",
            "  Downloading pyspark-3.4.0.tar.gz (310.8 MB)\n",
            "\u001b[2K     \u001b[90m━━━━━━━━━━━━━━━━━━━━━━━━━━━━━━━━━━━━━━━\u001b[0m \u001b[32m310.8/310.8 MB\u001b[0m \u001b[31m4.3 MB/s\u001b[0m eta \u001b[36m0:00:00\u001b[0m\n",
            "\u001b[?25h  Preparing metadata (setup.py) ... \u001b[?25l\u001b[?25hdone\n",
            "Requirement already satisfied: py4j==0.10.9.7 in /usr/local/lib/python3.10/dist-packages (from pyspark) (0.10.9.7)\n",
            "Building wheels for collected packages: pyspark\n",
            "  Building wheel for pyspark (setup.py) ... \u001b[?25l\u001b[?25hdone\n",
            "  Created wheel for pyspark: filename=pyspark-3.4.0-py2.py3-none-any.whl size=311317130 sha256=0657ea4152ce86be573cd1987fcc54ade95c5d257943e6ef5fdcce101719c57b\n",
            "  Stored in directory: /root/.cache/pip/wheels/7b/1b/4b/3363a1d04368e7ff0d408e57ff57966fcdf00583774e761327\n",
            "Successfully built pyspark\n",
            "Installing collected packages: pyspark\n",
            "Successfully installed pyspark-3.4.0\n"
          ]
        }
      ],
      "source": [
        "!pip install pyspark"
      ]
    },
    {
      "cell_type": "markdown",
      "source": [
        "Problem statement:\n",
        "You work as a Big Data Engineer at GrapeVine Pvt. Ltd. Your company is currently working as a \n",
        "Data Analytics consultant for a hedge fund. Due to the size of the available dataset, the \n",
        "company requires you to increase computational efficiency using Apache Spark. You have been \n",
        "assigned certain tasks for the fulfillment of this analysis through stock market backtesting.\n",
        "\n",
        "Dataset description:\n",
        "The dataset used for this assignment is ‘Reliance NSE Stock Market Data.’ The relevant fields \n",
        "that will be put to use in further analysis are as follows:\n",
        "time – The timestamp of the data record (separated by 5-minute intervals)\n",
        "open – The opening price of the stock\n",
        "high – The highest point of the stock in the last 5-minute interval\n",
        "low – The lowest point of the stock in the last 5-minute interval \n",
        "close – The price of the stock at the end of the 5-minute interval\n",
        "The rest of the fields or columns can be ignored"
      ],
      "metadata": {
        "id": "sWW3dhLXNMyu"
      }
    },
    {
      "cell_type": "code",
      "source": [
        "from pyspark.sql import SparkSession\n",
        "spark = SparkSession.builder.appName(\"NSE\").getOrCreate()\n",
        "df=spark.read.format('csv')\\\n",
        ".option(\"header\",\"true\")\\\n",
        ".option(\"inferSchema\",\"true\")\\\n",
        ".load(\"/content/NSE_RELIANCE_5_1.csv\")\n",
        "df.show(5)"
      ],
      "metadata": {
        "colab": {
          "base_uri": "https://localhost:8080/"
        },
        "id": "ojOdqBpA4lIE",
        "outputId": "4f7e54bc-2e74-4567-a967-ab99fb00ba44"
      },
      "execution_count": 4,
      "outputs": [
        {
          "output_type": "stream",
          "name": "stdout",
          "text": [
            "+-------------------+-----------+-----------+-----------+-----------+-----------+-----------+---+---+---+----+------+---------+------------+------------+------------+\n",
            "|               time|       open|       high|        low|      close|        MA5|        MA6|MA7|MA8|MA9|MA10|Volume|Volume MA|   Histogram|        MACD|      Signal|\n",
            "+-------------------+-----------+-----------+-----------+-----------+-----------+-----------+---+---+---+----+------+---------+------------+------------+------------+\n",
            "|2020-04-03 07:20:00|1053.771557|1056.297519|1051.790411|1053.424857|1056.784037|1055.267738|NaN|NaN|NaN| NaN|354666| 140161.0|-0.038974088|-1.535973794|-1.496999706|\n",
            "|2020-04-03 07:25:00|1053.573443|1055.455532|  1053.3258|1054.266844|1056.555201|1055.017514|NaN|NaN|NaN| NaN| 59611|133630.15|-0.051333212| -1.56116622|-1.509833009|\n",
            "|2020-04-03 07:30:00|1053.969672|1057.535735|1053.078156|1056.941391|1056.590309|1055.498484|NaN|NaN|NaN| NaN| 88783|129284.15| 0.156916075|-1.313687914| -1.47060399|\n",
            "|2020-04-03 07:35:00|1056.842334|1057.931964|1055.009774|1056.941391|1056.622226| 1055.85921|NaN|NaN|NaN| NaN| 84498| 124961.1| 0.291271942|-1.106514062|-1.397786004|\n",
            "|2020-04-03 07:40:00|1056.941391|1061.250384|1056.644219|1058.328193|1056.777314|1056.476456|NaN|NaN|NaN| NaN|162645|126417.55| 0.474557271|-0.804589416|-1.279146687|\n",
            "+-------------------+-----------+-----------+-----------+-----------+-----------+-----------+---+---+---+----+------+---------+------------+------------+------------+\n",
            "only showing top 5 rows\n",
            "\n"
          ]
        }
      ]
    },
    {
      "cell_type": "code",
      "source": [
        "# Create a temporary view of the DataFrame\n",
        "df.createOrReplaceTempView(\"NSE_Data\")\n",
        "\n",
        "# Query the table and show the result\n",
        "result = spark.sql(\"SELECT * FROM NSE_Data\")\n",
        "#result.unpersist()\n",
        "result.show()"
      ],
      "metadata": {
        "colab": {
          "base_uri": "https://localhost:8080/"
        },
        "id": "zLkgQaL-7KF-",
        "outputId": "5c8c5664-38e7-49fc-9be3-4e39b820b458"
      },
      "execution_count": 5,
      "outputs": [
        {
          "output_type": "stream",
          "name": "stdout",
          "text": [
            "+-------------------+-----------+-----------+-----------+-----------+-----------+-----------+---+---+---+----+------+---------+------------+------------+------------+\n",
            "|               time|       open|       high|        low|      close|        MA5|        MA6|MA7|MA8|MA9|MA10|Volume|Volume MA|   Histogram|        MACD|      Signal|\n",
            "+-------------------+-----------+-----------+-----------+-----------+-----------+-----------+---+---+---+----+------+---------+------------+------------+------------+\n",
            "|2020-04-03 07:20:00|1053.771557|1056.297519|1051.790411|1053.424857|1056.784037|1055.267738|NaN|NaN|NaN| NaN|354666| 140161.0|-0.038974088|-1.535973794|-1.496999706|\n",
            "|2020-04-03 07:25:00|1053.573443|1055.455532|  1053.3258|1054.266844|1056.555201|1055.017514|NaN|NaN|NaN| NaN| 59611|133630.15|-0.051333212| -1.56116622|-1.509833009|\n",
            "|2020-04-03 07:30:00|1053.969672|1057.535735|1053.078156|1056.941391|1056.590309|1055.498484|NaN|NaN|NaN| NaN| 88783|129284.15| 0.156916075|-1.313687914| -1.47060399|\n",
            "|2020-04-03 07:35:00|1056.842334|1057.931964|1055.009774|1056.941391|1056.622226| 1055.85921|NaN|NaN|NaN| NaN| 84498| 124961.1| 0.291271942|-1.106514062|-1.397786004|\n",
            "|2020-04-03 07:40:00|1056.941391|1061.250384|1056.644219|1058.328193|1056.777314|1056.476456|NaN|NaN|NaN| NaN|162645|126417.55| 0.474557271|-0.804589416|-1.279146687|\n",
            "|2020-04-03 07:45:00|1058.328193|1060.507454|1057.238563|1057.535735|1056.846261|1056.741276|NaN|NaN|NaN| NaN|124924|127163.85| 0.515264995|-0.635065443|-1.150330438|\n",
            "|2020-04-03 07:50:00|1057.931964|1059.764524|1056.495633|1056.941391|1056.854909|1056.791305|NaN|NaN|NaN| NaN| 89399|123195.05| 0.479103208|-0.551451428|-1.030554636|\n",
            "|2020-04-03 07:55:00|1057.089977|1058.625365| 1055.15836|1057.783378|1056.939315|1057.039323|NaN|NaN|NaN| NaN|101356|122718.25| 0.502712001|-0.402164634|-0.904876635|\n",
            "|2020-04-03 08:00:00|1057.931964|1059.714995|1057.139506|1058.031021|1057.038561|1057.287248|NaN|NaN|NaN| NaN|102162|122246.25| 0.516637883|-0.259079281|-0.775717165|\n",
            "|2020-04-03 08:05:00|1058.031021| 1069.81884|1057.981493|1067.837694|1058.020301|1059.924859|NaN|NaN|NaN| NaN|517201| 143987.0| 1.230613606| 0.762549843|-0.468063763|\n",
            "|2020-04-03 08:10:00|1067.490993|1074.771705|1064.519274|1066.549949|1058.795723|1061.581132|NaN|NaN|NaN| NaN|370883|158355.35|  1.51220628| 1.422194087|-0.090012193|\n",
            "|2020-04-03 08:15:00| 1066.50042|1069.323554|1064.073517|1065.311733|1059.388088|1062.513782|NaN|NaN|NaN| NaN|174823|160243.75| 1.511186745| 1.798971238| 0.287784493|\n",
            "|2020-04-03 08:20:00|1065.311733|1067.441465|1058.922537|1059.021594| 1059.35477|1061.640735|NaN|NaN|NaN| NaN|306274|171870.95| 0.957824078| 1.485064591| 0.527240513|\n",
            "|2020-04-03 08:25:00|1058.922537|1062.736243|1055.554589| 1059.91311|1059.405528|1061.208829|NaN|NaN|NaN| NaN|213543| 178320.2| 0.623860622| 1.307066291| 0.683205668|\n",
            "|2020-04-03 08:30:00|1059.714995|1061.795199|1057.832907|1060.111225|1059.469683|1060.934428|NaN|NaN|NaN| NaN|124716|172102.05| 0.390978863| 1.171929247| 0.780950384|\n",
            "|2020-04-03 08:35:00|1060.061696|1061.696141|1057.238563|1057.931964| 1059.32989|1060.183812|NaN|NaN|NaN| NaN|127533| 172192.8| 0.056363841| 0.851405186| 0.795041344|\n",
            "|2020-04-03 08:40:00|1057.931964| 1058.82348|1051.988526|1057.931964|1059.202806| 1059.62085|NaN|NaN|NaN| NaN|274686|176315.15|-0.161172226| 0.593576062| 0.754748288|\n",
            "|2020-04-03 08:45:00|1057.436678|1059.566409|1053.424857|1057.139506|1059.015233|1059.000514|NaN|NaN|NaN| NaN|144861|179593.85|-0.352654663|  0.31392996| 0.666584622|\n",
            "|2020-04-03 08:50:00|1057.189034|1059.516881|1055.653646|1057.931964|1058.916754|1058.733376|NaN|NaN|NaN| NaN|115970|181347.25|-0.399144702| 0.167653745| 0.566798447|\n",
            "|2020-04-03 08:55:00|1057.931964|1061.696141|1057.634792|1059.714995|1058.989321|1058.978781|NaN|NaN|NaN| NaN|108597|182356.55| -0.27918916| 0.217811997| 0.497001157|\n",
            "+-------------------+-----------+-----------+-----------+-----------+-----------+-----------+---+---+---+----+------+---------+------------+------------+------------+\n",
            "only showing top 20 rows\n",
            "\n"
          ]
        }
      ]
    },
    {
      "cell_type": "code",
      "source": [
        "# Find out the average ‘close’ price of Reliance throughout the duration of the dataset\n",
        "Avg_Close_Price=spark.sql(\"select Avg(close) as avg_close_price from NSE_Data \")\n",
        "Avg_Close_Price.show()"
      ],
      "metadata": {
        "colab": {
          "base_uri": "https://localhost:8080/"
        },
        "id": "Z48lPG8L8HIR",
        "outputId": "0122813a-8ace-4164-9834-301136c98d7f"
      },
      "execution_count": 7,
      "outputs": [
        {
          "output_type": "stream",
          "name": "stdout",
          "text": [
            "+-----------------+\n",
            "|  avg_close_price|\n",
            "+-----------------+\n",
            "|1414.248173455824|\n",
            "+-----------------+\n",
            "\n"
          ]
        }
      ]
    },
    {
      "cell_type": "code",
      "source": [
        "#If a Reliance stock was bought at the beginning of the trading day, ‘2020-04-07’ (YYYY-MM-DD), \n",
        "#at the close price of the first 5-minute window, scan the dataset to find out the point to sell the \n",
        "#stock to maximize profits. You are required to print the specific timestamp\n",
        "time_stamp=spark.sql(\"select time from NSE_DATA where time>='2020-04-07' and close=(select max(close) from NSE_Data where time>='2020-04-07')\")\n",
        "time_stamp.show()"
      ],
      "metadata": {
        "colab": {
          "base_uri": "https://localhost:8080/"
        },
        "id": "Ttv_wkc-9c4w",
        "outputId": "3f4cdff7-9c75-4e41-872a-948a35a0cfce"
      },
      "execution_count": 9,
      "outputs": [
        {
          "output_type": "stream",
          "name": "stdout",
          "text": [
            "+-------------------+\n",
            "|               time|\n",
            "+-------------------+\n",
            "|2020-06-05 03:55:00|\n",
            "+-------------------+\n",
            "\n"
          ]
        }
      ]
    },
    {
      "cell_type": "code",
      "source": [
        "#Find out the net profit or net loss to be accumulated if one stock of Reliance is bought at the \n",
        "#opening of every 5-minute slot and sold at the lowest possible point in that 5-minute slot\n",
        "\n",
        "lowest_possible_point=spark.sql(\"select sum(open-low) as net_profit_loss from NSE_Data\")\n",
        "lowest_possible_point.show()"
      ],
      "metadata": {
        "colab": {
          "base_uri": "https://localhost:8080/"
        },
        "id": "_d-xkhJ-BCtD",
        "outputId": "082c4ac0-6b16-4e83-b1ed-d6212cfa21bf"
      },
      "execution_count": 10,
      "outputs": [
        {
          "output_type": "stream",
          "name": "stdout",
          "text": [
            "+-----------------+\n",
            "|  net_profit_loss|\n",
            "+-----------------+\n",
            "|8877.819898999991|\n",
            "+-----------------+\n",
            "\n"
          ]
        }
      ]
    },
    {
      "cell_type": "code",
      "source": [
        "# Find out the net profit or net loss to be accumulated if one stock of Reliance is bought at the \n",
        "#opening of every 5-minute slot and sold at the highest possible point in that 5-minute slot\n",
        "highest_possible_point=spark.sql(\"select sum(high-open) as net_profit_high from NSE_Data\")\n",
        "highest_possible_point.show()"
      ],
      "metadata": {
        "colab": {
          "base_uri": "https://localhost:8080/"
        },
        "id": "Vt78dV_BL494",
        "outputId": "0b1837dc-cd3e-45c2-ee84-9f1848026ad8"
      },
      "execution_count": 12,
      "outputs": [
        {
          "output_type": "stream",
          "name": "stdout",
          "text": [
            "+----------------+\n",
            "| net_profit_high|\n",
            "+----------------+\n",
            "|8896.90313300003|\n",
            "+----------------+\n",
            "\n"
          ]
        }
      ]
    }
  ]
}